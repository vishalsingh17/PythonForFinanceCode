{
 "cells": [
  {
   "cell_type": "code",
   "execution_count": null,
   "id": "a41e3467",
   "metadata": {},
   "outputs": [],
   "source": [
    "#SSL ENCRYPTION\n",
    "# replace the following filenames with your choice/ files\n",
    "c.NotebookApp.certfile = r'C:\\Users\\Vishal\\Desktop\\PythonForFinance\\chap-2\\Digital Ocean\\cert.pem'\n",
    "c.NotebookApp.keyfile = r'C:\\Users\\Vishal\\Desktop\\PythonForFinance\\chap-2\\Digital Ocean\\cert.key'"
   ]
  },
  {
   "cell_type": "code",
   "execution_count": null,
   "id": "45704e86",
   "metadata": {},
   "outputs": [],
   "source": [
    "#IP ADDRESS AND PORT\n",
    "# set ip to '*' to bind on all IP addresses of the cloud instance\n",
    "c.NotebookApp.ip = '*'\n",
    "\n",
    "# it is a good idea to set a known, fixed default port for server access\n",
    "c.NotebookApp.port = '8888'"
   ]
  },
  {
   "cell_type": "code",
   "execution_count": null,
   "id": "a975b7ff",
   "metadata": {},
   "outputs": [],
   "source": [
    "#PASSWORD PROTECTION\n",
    "# here: 'jupyter' as password\n",
    "#replace the hash code with one for your strong password\n",
    "\n",
    "c.NotebookApp.password = '8$VFnoeIldGtzbojvQ+1SPxA$YKBmwvKXvrnbymZrVQ/0+g'"
   ]
  },
  {
   "cell_type": "code",
   "execution_count": null,
   "id": "5c6ec404",
   "metadata": {},
   "outputs": [],
   "source": [
    "# NO BROWSER OPTION\n",
    "# prevent jupyter from typing to open a browser\n",
    "\n",
    "c.NotebookApp.open_browser = False"
   ]
  },
  {
   "cell_type": "code",
   "execution_count": null,
   "id": "379ffd37",
   "metadata": {},
   "outputs": [],
   "source": []
  },
  {
   "cell_type": "code",
   "execution_count": null,
   "id": "d259c352",
   "metadata": {},
   "outputs": [],
   "source": []
  },
  {
   "cell_type": "code",
   "execution_count": null,
   "id": "04cccaae",
   "metadata": {},
   "outputs": [],
   "source": []
  },
  {
   "cell_type": "code",
   "execution_count": null,
   "id": "b4a6bc52",
   "metadata": {},
   "outputs": [],
   "source": []
  },
  {
   "cell_type": "code",
   "execution_count": null,
   "id": "da923212",
   "metadata": {},
   "outputs": [],
   "source": []
  },
  {
   "cell_type": "code",
   "execution_count": null,
   "id": "d85d2ab5",
   "metadata": {},
   "outputs": [],
   "source": []
  },
  {
   "cell_type": "code",
   "execution_count": null,
   "id": "ec80bb35",
   "metadata": {},
   "outputs": [],
   "source": []
  },
  {
   "cell_type": "code",
   "execution_count": null,
   "id": "bda88c89",
   "metadata": {},
   "outputs": [],
   "source": []
  },
  {
   "cell_type": "code",
   "execution_count": null,
   "id": "17ba743a",
   "metadata": {},
   "outputs": [],
   "source": []
  },
  {
   "cell_type": "code",
   "execution_count": null,
   "id": "bd579896",
   "metadata": {},
   "outputs": [],
   "source": []
  }
 ],
 "metadata": {
  "kernelspec": {
   "display_name": "Python 3 (ipykernel)",
   "language": "python",
   "name": "python3"
  },
  "language_info": {
   "codemirror_mode": {
    "name": "ipython",
    "version": 3
   },
   "file_extension": ".py",
   "mimetype": "text/x-python",
   "name": "python",
   "nbconvert_exporter": "python",
   "pygments_lexer": "ipython3",
   "version": "3.7.0"
  }
 },
 "nbformat": 4,
 "nbformat_minor": 5
}
