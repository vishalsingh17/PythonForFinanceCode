{
 "cells": [
  {
   "cell_type": "code",
   "execution_count": 3,
   "id": "1e022eb0",
   "metadata": {},
   "outputs": [
    {
     "ename": "NameError",
     "evalue": "name 'NotebookApp' is not defined",
     "output_type": "error",
     "traceback": [
      "\u001b[1;31m---------------------------------------------------------------------------\u001b[0m",
      "\u001b[1;31mNameError\u001b[0m                                 Traceback (most recent call last)",
      "\u001b[1;32m~\\AppData\\Local\\Temp\\ipykernel_24788\\270909982.py\u001b[0m in \u001b[0;36m<module>\u001b[1;34m\u001b[0m\n\u001b[1;32m----> 1\u001b[1;33m \u001b[0mNotebookApp\u001b[0m\u001b[1;33m.\u001b[0m\u001b[0mcertfile\u001b[0m \u001b[1;33m=\u001b[0m \u001b[1;34mr'C:\\Users\\Vishal\\Desktop\\PythonForFinance\\chap-2\\Digital Ocean\\cert.pem'\u001b[0m\u001b[1;33m\u001b[0m\u001b[0m\n\u001b[0m\u001b[0;32m      2\u001b[0m \u001b[0mkeyfile\u001b[0m \u001b[1;33m=\u001b[0m \u001b[1;34mr'C:\\Users\\Vishal\\Desktop\\PythonForFinance\\chap-2\\Digital Ocean\\cert.key'\u001b[0m\u001b[1;33m\u001b[0m\u001b[0m\n",
      "\u001b[1;31mNameError\u001b[0m: name 'NotebookApp' is not defined"
     ]
    }
   ],
   "source": [
    "#SSL ENCRYPTION\n",
    "# replace the following filenames with your choice/ files\n",
    "c.NotebookApp.certfile = r'C:\\Users\\Vishal\\Desktop\\PythonForFinance\\chap-2\\Digital Ocean\\cert.pem'\n",
    "c.NotebookApp.keyfile = r'C:\\Users\\Vishal\\Desktop\\PythonForFinance\\chap-2\\Digital Ocean\\cert.key'"
   ]
  },
  {
   "cell_type": "code",
   "execution_count": null,
   "id": "53c91f9c",
   "metadata": {},
   "outputs": [],
   "source": [
    "#IP ADDRESS AND PORT\n",
    "# set ip to '*' to bind on all IP addresses of the cloud instance\n",
    "c.NotebookApp.ip = '*'\n",
    "\n",
    "# it is a good idea to set a known, fixed default port for server access\n",
    "c.NotebookApp.port = '8888'"
   ]
  },
  {
   "cell_type": "code",
   "execution_count": null,
   "id": "e1ea4209",
   "metadata": {},
   "outputs": [],
   "source": [
    "#PASSWORD PROTECTION\n",
    "# here: 'jupyter' as password\n",
    "#replace the hash code with one for your strong password\n",
    "\n",
    "c.NotebookApp.password = '8$VFnoeIldGtzbojvQ+1SPxA$YKBmwvKXvrnbymZrVQ/0+g'"
   ]
  },
  {
   "cell_type": "code",
   "execution_count": null,
   "id": "43faaa12",
   "metadata": {},
   "outputs": [],
   "source": [
    "# NO BROWSER OPTION\n",
    "# prevent jupyter from typing to open a browser\n",
    "\n",
    "c.NotebookApp.open_browser = False"
   ]
  },
  {
   "cell_type": "code",
   "execution_count": null,
   "id": "6402946d",
   "metadata": {},
   "outputs": [],
   "source": []
  },
  {
   "cell_type": "code",
   "execution_count": null,
   "id": "5c4966d8",
   "metadata": {},
   "outputs": [],
   "source": []
  },
  {
   "cell_type": "code",
   "execution_count": null,
   "id": "1d584e6a",
   "metadata": {},
   "outputs": [],
   "source": []
  },
  {
   "cell_type": "code",
   "execution_count": null,
   "id": "ec658424",
   "metadata": {},
   "outputs": [],
   "source": []
  },
  {
   "cell_type": "code",
   "execution_count": null,
   "id": "b2ac3e4c",
   "metadata": {},
   "outputs": [],
   "source": []
  },
  {
   "cell_type": "code",
   "execution_count": null,
   "id": "7e027e38",
   "metadata": {},
   "outputs": [],
   "source": []
  },
  {
   "cell_type": "code",
   "execution_count": null,
   "id": "c3492316",
   "metadata": {},
   "outputs": [],
   "source": []
  },
  {
   "cell_type": "code",
   "execution_count": null,
   "id": "9c39d460",
   "metadata": {},
   "outputs": [],
   "source": []
  },
  {
   "cell_type": "code",
   "execution_count": null,
   "id": "a6318a9f",
   "metadata": {},
   "outputs": [],
   "source": []
  },
  {
   "cell_type": "code",
   "execution_count": null,
   "id": "454527ed",
   "metadata": {},
   "outputs": [],
   "source": []
  }
 ],
 "metadata": {
  "kernelspec": {
   "display_name": "Python 3 (ipykernel)",
   "language": "python",
   "name": "python3"
  },
  "language_info": {
   "codemirror_mode": {
    "name": "ipython",
    "version": 3
   },
   "file_extension": ".py",
   "mimetype": "text/x-python",
   "name": "python",
   "nbconvert_exporter": "python",
   "pygments_lexer": "ipython3",
   "version": "3.7.0"
  }
 },
 "nbformat": 4,
 "nbformat_minor": 5
}
